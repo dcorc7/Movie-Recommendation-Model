{
 "cells": [
  {
   "cell_type": "code",
   "execution_count": 7,
   "id": "a9b1bb0c",
   "metadata": {},
   "outputs": [
    {
     "data": {
      "application/vnd.jupyter.widget-view+json": {
       "model_id": "d393896fc5ec41eaaa27fd695c2561f1",
       "version_major": 2,
       "version_minor": 0
      },
      "text/plain": [
       "Combobox(value='', description='Guess:', ensure_option=True, layout=Layout(width='400px'), options=('102 dalma…"
      ]
     },
     "metadata": {},
     "output_type": "display_data"
    },
    {
     "data": {
      "application/vnd.jupyter.widget-view+json": {
       "model_id": "ee8c230d96b14dd8bc3f55131f2cd350",
       "version_major": 2,
       "version_minor": 0
      },
      "text/plain": [
       "Button(button_style='primary', description='Submit Guess', style=ButtonStyle())"
      ]
     },
     "metadata": {},
     "output_type": "display_data"
    },
    {
     "data": {
      "application/vnd.jupyter.widget-view+json": {
       "model_id": "42d2373ff2484015b0ddcfa48985ffd6",
       "version_major": 2,
       "version_minor": 0
      },
      "text/plain": [
       "Output()"
      ]
     },
     "metadata": {},
     "output_type": "display_data"
    },
    {
     "data": {
      "application/vnd.jupyter.widget-view+json": {
       "model_id": "4af34a731ddb4353b04dc1562c5e57e8",
       "version_major": 2,
       "version_minor": 0
      },
      "text/plain": [
       "Output()"
      ]
     },
     "metadata": {},
     "output_type": "display_data"
    }
   ],
   "source": [
    "import pandas as pd\n",
    "import ipywidgets as widgets\n",
    "from IPython.display import display, clear_output\n",
    "\n",
    "top_movies_df = pd.read_csv(\"./movie_guesser_dfs/da_vinci_code.csv\")\n",
    "top_movies_df[\"Rank\"] = range(1, len(top_movies_df) + 1)\n",
    "\n",
    "# Find the target movie — the one with similarity score == 1\n",
    "target_movie_row = top_movies_df[top_movies_df[\"Similarity_Score\"] == 1].iloc[0]\n",
    "target_movie = target_movie_row[\"Title\"]\n",
    "\n",
    "selected_movies_df = pd.DataFrame(columns=[\"Rank\", \"Title\", \"Similarity_Score\"])\n",
    "\n",
    "combobox = widgets.Combobox(\n",
    "    placeholder=\"Type or select a movie...\",\n",
    "    options = sorted(top_movies_df[\"Title\"].tolist()),\n",
    "    description=\"Guess:\",\n",
    "    ensure_option=True,\n",
    "    disabled=False,\n",
    "    layout=widgets.Layout(width=\"400px\"),\n",
    ")\n",
    "\n",
    "submit_button = widgets.Button(description=\"Submit Guess\", button_style=\"primary\")\n",
    "\n",
    "result_out = widgets.Output()\n",
    "message_out = widgets.Output()\n",
    "\n",
    "def on_submit_clicked(b):\n",
    "    global selected_movies_df\n",
    "    selected_title = combobox.value.strip()\n",
    "\n",
    "    message_out.clear_output()\n",
    "    result_out.clear_output()\n",
    "\n",
    "    if selected_title in top_movies_df[\"Title\"].values:\n",
    "        if selected_title in selected_movies_df[\"Title\"].values:\n",
    "            with message_out:\n",
    "                print(f\"Already guessed '{selected_title}'. Try a different movie.\")\n",
    "        else:\n",
    "            movie_row = top_movies_df[top_movies_df[\"Title\"] == selected_title].iloc[0]\n",
    "            new_row = {\n",
    "                \"Rank\": movie_row[\"Rank\"],\n",
    "                \"Title\": movie_row[\"Title\"],\n",
    "                \"Similarity_Score\": round(movie_row[\"Similarity_Score\"], 4),\n",
    "            }\n",
    "            selected_movies_df = pd.concat([selected_movies_df, pd.DataFrame([new_row])], ignore_index=True)\n",
    "\n",
    "            with result_out:\n",
    "                display(selected_movies_df.sort_values(\"Rank\").reset_index(drop=True))\n",
    "\n",
    "            # Check for win condition\n",
    "            if selected_title == target_movie:\n",
    "                with message_out:\n",
    "                    print(\"🎉 Congratulations! You found the Movie! 🎉\")\n",
    "\n",
    "        combobox.value = \"\"\n",
    "    else:\n",
    "        with message_out:\n",
    "            print(f\"'{selected_title}' is not a valid movie title. Please select from the list.\")\n",
    "\n",
    "submit_button.on_click(on_submit_clicked)\n",
    "\n",
    "display(combobox, submit_button, message_out, result_out)\n"
   ]
  }
 ],
 "metadata": {
  "kernelspec": {
   "display_name": "Python 3",
   "language": "python",
   "name": "python3"
  },
  "language_info": {
   "codemirror_mode": {
    "name": "ipython",
    "version": 3
   },
   "file_extension": ".py",
   "mimetype": "text/x-python",
   "name": "python",
   "nbconvert_exporter": "python",
   "pygments_lexer": "ipython3",
   "version": "3.13.1"
  }
 },
 "nbformat": 4,
 "nbformat_minor": 5
}
